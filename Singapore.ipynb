{
 "cells": [
  {
   "cell_type": "code",
   "execution_count": 46,
   "id": "dacd4dc1-eeb4-4505-865f-c9fc7c1d9e42",
   "metadata": {},
   "outputs": [],
   "source": [
    "import yaml\n",
    "import pandas as pd\n",
    "\n",
    "from datetime import datetime, timedelta, date\n",
    "import yfinance as yf"
   ]
  },
  {
   "cell_type": "code",
   "execution_count": 47,
   "id": "a9dfaced-1841-40b2-9459-993fcae2205a",
   "metadata": {},
   "outputs": [],
   "source": [
    "with open(\"failed_tickers.yaml\", \"r\") as f:\n",
    "    failed_tickers = yaml.safe_load(f)"
   ]
  },
  {
   "cell_type": "code",
   "execution_count": 48,
   "id": "f848ad34-2f55-4aa8-9d0c-83ce43a16282",
   "metadata": {},
   "outputs": [
    {
     "data": {
      "text/plain": [
       "['PJX.SI', 'M12.SI', 'N33.SI', 'XZB.SI']"
      ]
     },
     "execution_count": 48,
     "metadata": {},
     "output_type": "execute_result"
    }
   ],
   "source": [
    "failed_tickers"
   ]
  },
  {
   "cell_type": "code",
   "execution_count": 49,
   "id": "dcf1a533-04bf-4370-ade8-c2c502cb768d",
   "metadata": {
    "scrolled": true
   },
   "outputs": [],
   "source": [
    "df_stock = pd.read_csv(\"Stock Screener Data 31 Aug 2-16-26.csv.csv\")\n",
    "\n",
    "df_stock[\"Yahoo_Code\"] = df_stock[\"Code\"] + \".SI\"\n",
    "\n",
    "list_stock = []\n",
    "\n",
    "for index, row in df_stock.iterrows():\n",
    "    list_stock.append(row[\"Yahoo_Code\"])\n",
    "\n",
    "final_list = [item for item in list_stock if item not in failed_tickers]"
   ]
  },
  {
   "cell_type": "code",
   "execution_count": 50,
   "id": "c200a0ae-eb75-4aca-aeb5-31b719e82c3a",
   "metadata": {},
   "outputs": [
    {
     "name": "stderr",
     "output_type": "stream",
     "text": [
      "C:\\Users\\john\\AppData\\Local\\Temp\\ipykernel_335708\\3919928503.py:1: FutureWarning: YF.download() has changed argument auto_adjust default to True\n",
      "  response = yf.download([\"D05.SI\"], period='5d')\n",
      "[*********************100%***********************]  1 of 1 completed"
     ]
    },
    {
     "name": "stdout",
     "output_type": "stream",
     "text": [
      "Date             2025-08-27    2025-08-28    2025-08-29    2025-09-01  \\\n",
      "Price  Ticker                                                           \n",
      "Close  D05.SI  5.017000e+01  5.033000e+01  5.052000e+01  5.020000e+01   \n",
      "High   D05.SI  5.022000e+01  5.045000e+01  5.070000e+01  5.064000e+01   \n",
      "Low    D05.SI  4.970000e+01  5.024000e+01  5.028000e+01  5.012000e+01   \n",
      "Open   D05.SI  4.970000e+01  5.031000e+01  5.070000e+01  5.064000e+01   \n",
      "Volume D05.SI  2.168713e+06  3.233400e+06  3.078100e+06  1.787500e+06   \n",
      "\n",
      "Date             2025-09-02  \n",
      "Price  Ticker                \n",
      "Close  D05.SI  5.071000e+01  \n",
      "High   D05.SI  5.074000e+01  \n",
      "Low    D05.SI  5.020000e+01  \n",
      "Open   D05.SI  5.020000e+01  \n",
      "Volume D05.SI  2.533500e+06  \n"
     ]
    },
    {
     "name": "stderr",
     "output_type": "stream",
     "text": [
      "\n"
     ]
    }
   ],
   "source": [
    "response = yf.download([\"D05.SI\"], period='5d')\n",
    "print(response.T)"
   ]
  },
  {
   "cell_type": "code",
   "execution_count": 51,
   "id": "8aa51eec-6a14-4baf-afe6-6bb85f0741e2",
   "metadata": {
    "scrolled": true
   },
   "outputs": [
    {
     "name": "stderr",
     "output_type": "stream",
     "text": [
      "C:\\Users\\john\\AppData\\Local\\Temp\\ipykernel_335708\\2301159167.py:1: FutureWarning: YF.download() has changed argument auto_adjust default to True\n",
      "  response = yf.download(list_stock, period='5d')\n",
      "[*********************100%***********************]  613 of 613 completed\n",
      "\n",
      "4 Failed downloads:\n",
      "['M12.SI', 'PJX.SI', 'N33.SI']: YFPricesMissingError('possibly delisted; no price data found  (period=5d)')\n",
      "['XZB.SI']: YFPricesMissingError('possibly delisted; no price data found  (period=5d) (Yahoo error = \"No data found, symbol may be delisted\")')\n"
     ]
    },
    {
     "name": "stdout",
     "output_type": "stream",
     "text": [
      "Date                2025-08-27    2025-08-28    2025-08-29   2025-09-01  \\\n",
      "Price     Ticker                                                          \n",
      "Adj Close M12.SI           NaN           NaN           NaN          NaN   \n",
      "          N33.SI           NaN           NaN           NaN          NaN   \n",
      "          PJX.SI           NaN           NaN           NaN          NaN   \n",
      "          XZB.SI           NaN           NaN           NaN          NaN   \n",
      "Close     1A0.SI  4.100000e-02  4.300000e-02  4.200000e-02         0.04   \n",
      "...                        ...           ...           ...          ...   \n",
      "Volume    Z74.SI  2.402387e+07  2.549660e+07  1.605460e+07  10042100.00   \n",
      "          Z77.SI  1.680900e+05  1.224000e+05  1.000000e+05    110240.00   \n",
      "          ZB9.SI  3.720000e+04           NaN           NaN          NaN   \n",
      "          ZKX.SI  4.350000e+04  1.353000e+05  8.440000e+04     59500.00   \n",
      "          ZXY.SI  5.930000e+04  0.000000e+00  2.054000e+05    264700.00   \n",
      "\n",
      "Date                2025-09-02  \n",
      "Price     Ticker                \n",
      "Adj Close M12.SI           NaN  \n",
      "          N33.SI           NaN  \n",
      "          PJX.SI           NaN  \n",
      "          XZB.SI           NaN  \n",
      "Close     1A0.SI  4.100000e-02  \n",
      "...                        ...  \n",
      "Volume    Z74.SI  2.010310e+07  \n",
      "          Z77.SI  1.905600e+05  \n",
      "          ZB9.SI  6.000000e+03  \n",
      "          ZKX.SI  7.830000e+04  \n",
      "          ZXY.SI           NaN  \n",
      "\n",
      "[3069 rows x 5 columns]\n"
     ]
    }
   ],
   "source": [
    "# response = yf.download(list_stock, period='5d\n",
    "response = yf.download(final_list, period='5d')\n",
    "print(response.T)"
   ]
  },
  {
   "cell_type": "code",
   "execution_count": 53,
   "id": "95a4518f-ab50-41c5-a523-dbecd1dc236f",
   "metadata": {},
   "outputs": [],
   "source": [
    "failed_tickers = ['PJX.SI', 'M12.SI', 'N33.SI', 'XZB.SI']"
   ]
  },
  {
   "cell_type": "code",
   "execution_count": 54,
   "id": "552384ec-ced0-4dbc-a8cf-723fd98c4943",
   "metadata": {},
   "outputs": [],
   "source": [
    "with open(\"failed_tickers.yaml\", \"w\") as f:\n",
    "    yaml.dump(failed_tickers, f, default_flow_style=False, sort_keys=False)"
   ]
  },
  {
   "cell_type": "code",
   "execution_count": 55,
   "id": "48e8fb26-1a64-40b7-b824-d6e4a7561e9a",
   "metadata": {},
   "outputs": [],
   "source": [
    "df = response.T"
   ]
  },
  {
   "cell_type": "code",
   "execution_count": 56,
   "id": "389d29e9-382f-4bee-8e2e-b6a21e022015",
   "metadata": {},
   "outputs": [],
   "source": [
    "cols = list(df.T[\"Close\"].columns)"
   ]
  },
  {
   "cell_type": "code",
   "execution_count": 57,
   "id": "f8323488-eb6a-42ed-9957-8aa9a36d2c8f",
   "metadata": {},
   "outputs": [],
   "source": [
    "def last3_close_gte_open(open_series: pd.Series, close_series: pd.Series) -> bool:\n",
    "    \"\"\"\n",
    "    Returns True if the last 3 days' closes are greater than opens.\n",
    "    \"\"\"\n",
    "    diff = close_series - open_series\n",
    "    last3 = diff.tail(3)\n",
    "    check_diff = (last3 >= 0).all()\n",
    "    return check_diff"
   ]
  },
  {
   "cell_type": "code",
   "execution_count": 58,
   "id": "948cff3c-4659-4f7e-8289-ebdb94667fb9",
   "metadata": {},
   "outputs": [],
   "source": [
    "def last3_gte_prev(series: pd.Series) -> bool:\n",
    "    last3 = series.tail(3)  # need 4 values to compare 3 consecutive increases\n",
    "    return (last3.diff().tail(2) > 0).all()"
   ]
  },
  {
   "cell_type": "code",
   "execution_count": 59,
   "id": "e9ddd3f3-4f19-41ee-b24d-684c210671af",
   "metadata": {},
   "outputs": [
    {
     "name": "stdout",
     "output_type": "stream",
     "text": [
      "20\n"
     ]
    }
   ],
   "source": [
    "# cols = ['OXMU.SI']\n",
    "cols = list(df.T[\"Close\"].columns)\n",
    "c_list = []\n",
    "for item in cols:\n",
    "    # print(item)\n",
    "    close_series = df.T[\"Close\"][item]\n",
    "    open_series = df.T[\"Open\"][item]\n",
    "\n",
    "    check1 = last3_close_gte_open(open_series, close_series)\n",
    "    check2 = last3_gte_prev(open_series)\n",
    "    check3 = last3_gte_prev(close_series)\n",
    "\n",
    "    if check1 and check2 and check3:\n",
    "        c_list.append(item)\n",
    "\n",
    "print(len(c_list))"
   ]
  },
  {
   "cell_type": "code",
   "execution_count": 60,
   "id": "b858eef2-6860-476a-a4e6-6d85e5b8e714",
   "metadata": {},
   "outputs": [
    {
     "data": {
      "text/plain": [
       "['5GD.SI',\n",
       " '5TP.SI',\n",
       " 'A04.SI',\n",
       " 'AP4.SI',\n",
       " 'BEZ.SI',\n",
       " 'CYW.SI',\n",
       " 'DHLU.SI',\n",
       " 'ER0.SI',\n",
       " 'H02.SI',\n",
       " 'HMN.SI',\n",
       " 'J85.SI',\n",
       " 'S35.SI',\n",
       " 'S41.SI',\n",
       " 'S61.SI',\n",
       " 'T14.SI',\n",
       " 'TQ5.SI',\n",
       " 'U96.SI',\n",
       " 'Z74.SI',\n",
       " 'Z77.SI',\n",
       " 'ZKX.SI']"
      ]
     },
     "execution_count": 60,
     "metadata": {},
     "output_type": "execute_result"
    }
   ],
   "source": [
    "c_list"
   ]
  },
  {
   "cell_type": "code",
   "execution_count": 61,
   "id": "640ef5cb-583e-4043-871c-3b9432b5d573",
   "metadata": {},
   "outputs": [],
   "source": [
    "def score_stock(data: dict) -> dict:\n",
    "    # Extract metrics\n",
    "    metrics = {\n",
    "        \"forward_pe\": data.get(\"forwardPE\"),\n",
    "        \"trailing_pe\": data.get(\"trailingPE\"),\n",
    "        \"eps\": data.get(\"trailingEps\"),\n",
    "        \"ocf\": data.get(\"operatingCashflow\"),\n",
    "        \"shares\": data.get(\"sharesOutstanding\"),\n",
    "        \"cash_per_share\": data.get(\"totalCashPerShare\"),\n",
    "        \"current_price\": data.get(\"currentPrice\"),\n",
    "        \"div_yield\": data.get(\"dividendYield\"),\n",
    "        \"payout\": data.get(\"payoutRatio\"),\n",
    "        \"curr_ratio\": data.get(\"currentRatio\"),\n",
    "        \"quick_ratio\": data.get(\"quickRatio\"),\n",
    "        \"roe\": data.get(\"returnOnEquity\"),\n",
    "        \"roa\": data.get(\"returnOnAssets\"),\n",
    "        \"debt_eq\": data.get(\"debtToEquity\"),\n",
    "        \"rev_growth\": data.get(\"revenueGrowth\"),\n",
    "        \"earnings_growth\": data.get(\"earningsGrowth\"),\n",
    "        \"profit_margin\": data.get(\"profitMargins\")\n",
    "    }\n",
    "\n",
    "    # Compute cash flow per share\n",
    "    if metrics[\"ocf\"] and metrics[\"shares\"]:\n",
    "        metrics[\"cfps\"] = metrics[\"ocf\"] / metrics[\"shares\"]\n",
    "    else:\n",
    "        metrics[\"cfps\"] = None\n",
    "\n",
    "    verdict = []\n",
    "    score = 50  # neutral starting point\n",
    "\n",
    "    # Valuation adjustments\n",
    "    if metrics[\"forward_pe\"] and metrics[\"forward_pe\"] < 15:\n",
    "        verdict.append(\"Cheap valuation\"); score += 10\n",
    "    if metrics[\"trailing_pe\"] and metrics[\"trailing_pe\"] != \"Infinity\"  and metrics[\"trailing_pe\"] > 20:\n",
    "        verdict.append(\"Expensive valuation\"); score -= 10\n",
    "\n",
    "    # Cash and dividend\n",
    "    if metrics[\"cfps\"] and metrics[\"eps\"] and metrics[\"cfps\"] > metrics[\"eps\"]:\n",
    "        verdict.append(\"Strong cash flow\"); score += 5\n",
    "    if metrics[\"cash_per_share\"] and metrics[\"current_price\"] and metrics[\"cash_per_share\"] > metrics[\"current_price\"] * 0.4:\n",
    "        verdict.append(\"High cash reserves\"); score += 5\n",
    "    if metrics[\"div_yield\"] and metrics[\"div_yield\"] > 0.05:\n",
    "        verdict.append(\"High dividend yield\"); score += 5\n",
    "    elif metrics[\"div_yield\"] and metrics[\"div_yield\"] < 0.02:\n",
    "        verdict.append(\"Low dividend\"); score -= 5\n",
    "\n",
    "    # Liquidity & debt\n",
    "    if metrics[\"curr_ratio\"] and metrics[\"curr_ratio\"] < 1:\n",
    "        verdict.append(\"Weak liquidity\"); score -= 5\n",
    "    elif metrics[\"curr_ratio\"] and metrics[\"curr_ratio\"] > 1.5:\n",
    "        verdict.append(\"Healthy liquidity\"); score += 5\n",
    "    if metrics[\"debt_eq\"] and metrics[\"debt_eq\"] > 70:\n",
    "        verdict.append(\"High debt load\"); score -= 5\n",
    "\n",
    "    # Profitability\n",
    "    if metrics[\"roe\"] and metrics[\"roe\"] > 0.15:\n",
    "        verdict.append(\"High efficiency (ROE)\"); score += 5\n",
    "    if metrics[\"roa\"] and metrics[\"roa\"] < 0.03:\n",
    "        verdict.append(\"Low ROA\"); score -= 5\n",
    "    if metrics[\"profit_margin\"] and metrics[\"profit_margin\"] < 0.05:\n",
    "        verdict.append(\"Thin margins\"); score -= 5\n",
    "\n",
    "    # Growth factors\n",
    "    if metrics[\"rev_growth\"] and metrics[\"rev_growth\"] > 0.15:\n",
    "        verdict.append(\"Strong revenue growth\"); score += 5\n",
    "    if metrics[\"earnings_growth\"] and metrics[\"earnings_growth\"] > 0.3:\n",
    "        verdict.append(\"Explosive earnings growth\"); score += 5\n",
    "\n",
    "    # Bound the score\n",
    "    score = max(0, min(100, score))\n",
    "\n",
    "    # Profile classification\n",
    "    profile = \"Balanced\"\n",
    "    if \"Cheap valuation\" in verdict and (\"High dividend yield\" in verdict or \"Strong cash flow\" in verdict):\n",
    "        profile = \"Cash Cow / Value\"\n",
    "    elif \"Expensive valuation\" in verdict and (\"Strong revenue growth\" in verdict or \"Explosive earnings growth\" in verdict):\n",
    "        profile = \"Growth Bet\"\n",
    "    if \"Weak liquidity\" in verdict or \"High debt load\" in verdict or \"Thin margins\" in verdict:\n",
    "        profile = \"High Risk\"\n",
    "\n",
    "    return {\"score\": score, \"verdict\": verdict, \"profile\": profile}\n"
   ]
  },
  {
   "cell_type": "code",
   "execution_count": 62,
   "id": "f3693023-4689-40b8-af42-3c94be9896fe",
   "metadata": {},
   "outputs": [
    {
     "name": "stdout",
     "output_type": "stream",
     "text": [
      "5TP.SI\n",
      "AP4.SI\n",
      "BEZ.SI\n",
      "ER0.SI\n",
      "S35.SI\n",
      "S41.SI\n",
      "S61.SI\n",
      "T14.SI\n",
      "TQ5.SI\n",
      "U96.SI\n"
     ]
    }
   ],
   "source": [
    "for item in c_list:\n",
    "    dat = yf.Ticker(item)\n",
    "    report = score_stock(dat.info)\n",
    "    if report.get('score') >= 70:\n",
    "        print(item)"
   ]
  },
  {
   "cell_type": "code",
   "execution_count": null,
   "id": "52f78e9b-01b2-4744-a143-64e69fd76e7d",
   "metadata": {},
   "outputs": [],
   "source": [
    "['5GD.SI',\n",
    " '5TP.SI',\n",
    " 'A04.SI',\n",
    " 'AP4.SI',\n",
    " 'BEZ.SI',\n",
    " 'CYW.SI',\n",
    " 'DHLU.SI',\n",
    " 'ER0.SI',\n",
    " 'H02.SI',\n",
    " 'HMN.SI',\n",
    " 'J85.SI',\n",
    " 'S35.SI',\n",
    " 'S41.SI',\n",
    " 'S61.SI',\n",
    " 'T14.SI',\n",
    " 'TQ5.SI',\n",
    " 'U96.SI',\n",
    " 'Z74.SI',\n",
    " 'Z77.SI',\n",
    " 'ZKX.SI']"
   ]
  },
  {
   "cell_type": "code",
   "execution_count": 109,
   "id": "cf951c74-82bc-4a5f-be77-ec027f1c8f2a",
   "metadata": {},
   "outputs": [],
   "source": [
    "dat = yf.Ticker(\"KGC\")\n",
    "report = score_stock(dat.info)"
   ]
  },
  {
   "cell_type": "code",
   "execution_count": 110,
   "id": "2ecd51bd-700f-4b31-91b9-101fc1638247",
   "metadata": {},
   "outputs": [
    {
     "data": {
      "text/plain": [
       "{'score': 80,\n",
       " 'verdict': ['Strong cash flow',\n",
       "  'High dividend yield',\n",
       "  'Healthy liquidity',\n",
       "  'High efficiency (ROE)',\n",
       "  'Strong revenue growth',\n",
       "  'Explosive earnings growth'],\n",
       " 'profile': 'Balanced'}"
      ]
     },
     "execution_count": 110,
     "metadata": {},
     "output_type": "execute_result"
    }
   ],
   "source": [
    "report"
   ]
  },
  {
   "cell_type": "code",
   "execution_count": 108,
   "id": "24e9d655-2a88-44d1-80fd-8bcf204b6077",
   "metadata": {
    "scrolled": true
   },
   "outputs": [
    {
     "data": {
      "text/plain": [
       "{'address1': '1111 Melville Street',\n",
       " 'address2': 'Suite 820',\n",
       " 'city': 'Vancouver',\n",
       " 'state': 'BC',\n",
       " 'zip': 'V6E 3V6',\n",
       " 'country': 'Canada',\n",
       " 'phone': '604 484 4085',\n",
       " 'website': 'https://www.fortunamining.com',\n",
       " 'industry': 'Gold',\n",
       " 'industryKey': 'gold',\n",
       " 'industryDisp': 'Gold',\n",
       " 'sector': 'Basic Materials',\n",
       " 'sectorKey': 'basic-materials',\n",
       " 'sectorDisp': 'Basic Materials',\n",
       " 'longBusinessSummary': \"Fortuna Mining Corp. engages in the precious and base metal mining and related activities in Argentina, Burkina Faso, Côte d'Ivoire, Mexico, Peru, and Senegal. The company operates through Mansfield, Sanu, Sango, Cuzcatlan, and Bateas segments. It operates the Lindero gold mine, the Yaramoko gold mine, the Séguéla gold mine, and the San Jose silver-gold mine, as well as the Caylloma silver, lead, and zinc mine. The company was formerly known as Fortuna Silver Mines Inc. and changed its name to Fortuna Mining Corp. in June 2024. Fortuna Mining Corp. was incorporated in 1990 and is based in Vancouver, Canada.\",\n",
       " 'companyOfficers': [{'maxAge': 1,\n",
       "   'name': 'Mr. Jorge A. Ganoza Durant B.Sc., Eng',\n",
       "   'age': 54,\n",
       "   'title': 'Co-Founder, President, CEO & Director',\n",
       "   'yearBorn': 1970,\n",
       "   'fiscalYear': 2024,\n",
       "   'totalPay': 1698131,\n",
       "   'exercisedValue': 0,\n",
       "   'unexercisedValue': 0},\n",
       "  {'maxAge': 1,\n",
       "   'name': 'Mr. Mario D. Szotlender',\n",
       "   'age': 63,\n",
       "   'title': 'Co-Founder & Director',\n",
       "   'yearBorn': 1961,\n",
       "   'fiscalYear': 2024,\n",
       "   'totalPay': 194856,\n",
       "   'exercisedValue': 0,\n",
       "   'unexercisedValue': 0},\n",
       "  {'maxAge': 1,\n",
       "   'name': 'Mr. Luis Dario Ganoza Durant B.Sc., BSc Eng., M.B.A., M.Sc.',\n",
       "   'age': 53,\n",
       "   'title': 'Chief Financial Officer',\n",
       "   'yearBorn': 1971,\n",
       "   'fiscalYear': 2024,\n",
       "   'totalPay': 1042309,\n",
       "   'exercisedValue': 0,\n",
       "   'unexercisedValue': 0},\n",
       "  {'maxAge': 1,\n",
       "   'name': 'Mr. Eric N. Chapman P.Geo.',\n",
       "   'title': 'Senior Vice President of Technical Services',\n",
       "   'fiscalYear': 2024,\n",
       "   'totalPay': 683255,\n",
       "   'exercisedValue': 0,\n",
       "   'unexercisedValue': 0},\n",
       "  {'maxAge': 1,\n",
       "   'name': 'Mr. Cesar E. Velasco',\n",
       "   'title': 'Chief Operating Officer of Latin America',\n",
       "   'fiscalYear': 2024,\n",
       "   'totalPay': 793171,\n",
       "   'exercisedValue': 0,\n",
       "   'unexercisedValue': 0},\n",
       "  {'maxAge': 1,\n",
       "   'name': 'Mr. David Edward Whittle B.Com., B.Comm., C.A., CPA',\n",
       "   'age': 59,\n",
       "   'title': 'Chief Operating Officer of West Africa',\n",
       "   'yearBorn': 1965,\n",
       "   'fiscalYear': 2024,\n",
       "   'totalPay': 1256438,\n",
       "   'exercisedValue': 0,\n",
       "   'unexercisedValue': 0},\n",
       "  {'maxAge': 1,\n",
       "   'name': \"Mr. Kevin  O'Reilly\",\n",
       "   'title': 'Vice President of Finance & Accounting',\n",
       "   'fiscalYear': 2024,\n",
       "   'exercisedValue': 0,\n",
       "   'unexercisedValue': 0},\n",
       "  {'maxAge': 1,\n",
       "   'name': 'Mr. Carlos  Baca',\n",
       "   'title': 'Vice President of Investor Relations',\n",
       "   'fiscalYear': 2024,\n",
       "   'exercisedValue': 0,\n",
       "   'unexercisedValue': 0},\n",
       "  {'maxAge': 1,\n",
       "   'name': 'Ms. Linda  Desaulniers',\n",
       "   'title': 'Corporate Counsel & Chief Compliance Officer',\n",
       "   'fiscalYear': 2024,\n",
       "   'exercisedValue': 0,\n",
       "   'unexercisedValue': 0},\n",
       "  {'maxAge': 1,\n",
       "   'name': 'Mr. Armando  Nakamura',\n",
       "   'title': 'Vice President of People',\n",
       "   'fiscalYear': 2024,\n",
       "   'exercisedValue': 0,\n",
       "   'unexercisedValue': 0}],\n",
       " 'auditRisk': 10,\n",
       " 'boardRisk': 5,\n",
       " 'compensationRisk': 4,\n",
       " 'shareHolderRightsRisk': 4,\n",
       " 'overallRisk': 5,\n",
       " 'governanceEpochDate': 1756684800,\n",
       " 'compensationAsOfEpochDate': 1735603200,\n",
       " 'executiveTeam': [],\n",
       " 'maxAge': 86400,\n",
       " 'priceHint': 2,\n",
       " 'previousClose': 7.7,\n",
       " 'open': 8.0,\n",
       " 'dayLow': 7.57,\n",
       " 'dayHigh': 8.0394,\n",
       " 'regularMarketPreviousClose': 7.7,\n",
       " 'regularMarketOpen': 8.0,\n",
       " 'regularMarketDayLow': 7.57,\n",
       " 'regularMarketDayHigh': 8.0394,\n",
       " 'payoutRatio': 0.0,\n",
       " 'beta': 1.212,\n",
       " 'trailingPE': 13.954546,\n",
       " 'forwardPE': 11.628788,\n",
       " 'volume': 12227701,\n",
       " 'regularMarketVolume': 12227701,\n",
       " 'averageVolume': 14032606,\n",
       " 'averageVolume10days': 12812080,\n",
       " 'averageDailyVolume10Day': 12812080,\n",
       " 'bid': 7.67,\n",
       " 'ask': 7.68,\n",
       " 'bidSize': 54,\n",
       " 'askSize': 71,\n",
       " 'marketCap': 2358220544,\n",
       " 'fiftyTwoWeekLow': 4.13,\n",
       " 'fiftyTwoWeekHigh': 8.0394,\n",
       " 'priceToSalesTrailing12Months': 1.9863533,\n",
       " 'fiftyDayAverage': 6.8262,\n",
       " 'twoHundredDayAverage': 5.7081,\n",
       " 'trailingAnnualDividendRate': 0.0,\n",
       " 'trailingAnnualDividendYield': 0.0,\n",
       " 'currency': 'USD',\n",
       " 'tradeable': False,\n",
       " 'enterpriseValue': 2233363968,\n",
       " 'profitMargins': 0.13281,\n",
       " 'floatShares': 304074562,\n",
       " 'sharesOutstanding': 306960000,\n",
       " 'sharesShort': 16800241,\n",
       " 'sharesShortPriorMonth': 19025017,\n",
       " 'sharesShortPreviousMonthDate': 1752537600,\n",
       " 'dateShortInterest': 1755216000,\n",
       " 'sharesPercentSharesOut': 0.0612,\n",
       " 'heldPercentInsiders': 0.00521,\n",
       " 'heldPercentInstitutions': 0.72405,\n",
       " 'shortRatio': 1.58,\n",
       " 'impliedSharesOutstanding': 307260000,\n",
       " 'bookValue': 4.869,\n",
       " 'priceToBook': 1.5762991,\n",
       " 'lastFiscalYearEnd': 1735603200,\n",
       " 'nextFiscalYearEnd': 1767139200,\n",
       " 'mostRecentQuarter': 1751241600,\n",
       " 'earningsQuarterlyGrowth': -0.082,\n",
       " 'netIncomeToCommon': 171198000,\n",
       " 'trailingEps': 0.55,\n",
       " 'forwardEps': 0.66,\n",
       " 'enterpriseToRevenue': 1.881,\n",
       " 'enterpriseToEbitda': 3.997,\n",
       " '52WeekChange': 0.8160378,\n",
       " 'SandP52WeekChange': 0.16844666,\n",
       " 'quoteType': 'EQUITY',\n",
       " 'currentPrice': 7.675,\n",
       " 'targetHighPrice': 8.0,\n",
       " 'targetLowPrice': 8.0,\n",
       " 'targetMeanPrice': 8.0,\n",
       " 'targetMedianPrice': 8.0,\n",
       " 'recommendationMean': 2.6,\n",
       " 'recommendationKey': 'hold',\n",
       " 'numberOfAnalystOpinions': 1,\n",
       " 'totalCash': 394020000,\n",
       " 'totalCashPerShare': 1.284,\n",
       " 'ebitda': 558734016,\n",
       " 'totalDebt': 216044000,\n",
       " 'quickRatio': 2.101,\n",
       " 'currentRatio': 2.708,\n",
       " 'totalRevenue': 1187211008,\n",
       " 'debtToEquity': 14.007,\n",
       " 'revenuePerShare': 3.84,\n",
       " 'returnOnAssets': 0.09295,\n",
       " 'returnOnEquity': 0.13087,\n",
       " 'grossProfits': 428736992,\n",
       " 'freeCashflow': 327722368,\n",
       " 'operatingCashflow': 436886016,\n",
       " 'earningsGrowth': -0.096,\n",
       " 'revenueGrowth': 0.474,\n",
       " 'grossMargins': 0.36113,\n",
       " 'ebitdaMargins': 0.47063,\n",
       " 'operatingMargins': 0.35097,\n",
       " 'financialCurrency': 'USD',\n",
       " 'symbol': 'FSM',\n",
       " 'language': 'en-US',\n",
       " 'region': 'US',\n",
       " 'typeDisp': 'Equity',\n",
       " 'quoteSourceName': 'Nasdaq Real Time Price',\n",
       " 'triggerable': True,\n",
       " 'customPriceAlertConfidence': 'HIGH',\n",
       " 'longName': 'Fortuna Mining Corp.',\n",
       " 'exchange': 'NYQ',\n",
       " 'messageBoardId': 'finmb_3474768',\n",
       " 'exchangeTimezoneName': 'America/New_York',\n",
       " 'exchangeTimezoneShortName': 'EDT',\n",
       " 'gmtOffSetMilliseconds': -14400000,\n",
       " 'market': 'us_market',\n",
       " 'esgPopulated': False,\n",
       " 'regularMarketChangePercent': -0.32467037,\n",
       " 'regularMarketPrice': 7.675,\n",
       " 'marketState': 'REGULAR',\n",
       " 'regularMarketChange': -0.024999619,\n",
       " 'regularMarketDayRange': '7.57 - 8.0394',\n",
       " 'fullExchangeName': 'NYSE',\n",
       " 'averageDailyVolume3Month': 14032606,\n",
       " 'fiftyTwoWeekLowChange': 3.545,\n",
       " 'fiftyTwoWeekLowChangePercent': 0.8583535,\n",
       " 'fiftyTwoWeekRange': '4.13 - 8.0394',\n",
       " 'fiftyTwoWeekHighChange': -0.3643999,\n",
       " 'fiftyTwoWeekHighChangePercent': -0.045326754,\n",
       " 'fiftyTwoWeekChangePercent': 81.603775,\n",
       " 'earningsTimestamp': 1754510400,\n",
       " 'earningsTimestampStart': 1762372800,\n",
       " 'earningsTimestampEnd': 1762372800,\n",
       " 'earningsCallTimestampStart': 1746720000,\n",
       " 'earningsCallTimestampEnd': 1746720000,\n",
       " 'isEarningsDateEstimate': False,\n",
       " 'epsTrailingTwelveMonths': 0.55,\n",
       " 'epsForward': 0.66,\n",
       " 'epsCurrentYear': 0.74839,\n",
       " 'priceEpsCurrentYear': 10.255348,\n",
       " 'fiftyDayAverageChange': 0.8488002,\n",
       " 'fiftyDayAverageChangePercent': 0.12434446,\n",
       " 'twoHundredDayAverageChange': 1.9669003,\n",
       " 'twoHundredDayAverageChangePercent': 0.3445806,\n",
       " 'sourceInterval': 15,\n",
       " 'exchangeDataDelayedBy': 0,\n",
       " 'prevName': 'Fortuna Silver Mines Inc.',\n",
       " 'nameChangeDate': '2025-09-01',\n",
       " 'averageAnalystRating': '2.6 - Hold',\n",
       " 'shortName': 'Fortuna Mining Corp.',\n",
       " 'corporateActions': [],\n",
       " 'regularMarketTime': 1756832311,\n",
       " 'cryptoTradeable': False,\n",
       " 'hasPrePostMarketData': True,\n",
       " 'firstTradeDateMilliseconds': 1168266600000,\n",
       " 'displayName': 'Fortuna Mining',\n",
       " 'trailingPegRatio': None}"
      ]
     },
     "execution_count": 108,
     "metadata": {},
     "output_type": "execute_result"
    }
   ],
   "source": [
    "dat.info"
   ]
  },
  {
   "cell_type": "code",
   "execution_count": 178,
   "id": "24115c40-3e74-4a7c-9154-4516f243520f",
   "metadata": {},
   "outputs": [
    {
     "name": "stdout",
     "output_type": "stream",
     "text": [
      "Date\n",
      "2025-08-27    0.31\n",
      "2025-08-28    0.31\n",
      "2025-08-29    0.32\n",
      "2025-09-01    0.31\n",
      "2025-09-02     NaN\n",
      "Name: ZXY.SI, dtype: float64 Date\n",
      "2025-08-27    0.305\n",
      "2025-08-28    0.310\n",
      "2025-08-29    0.310\n",
      "2025-09-01    0.320\n",
      "2025-09-02      NaN\n",
      "Name: ZXY.SI, dtype: float64\n"
     ]
    }
   ],
   "source": [
    "print(close_series, open_series)"
   ]
  },
  {
   "cell_type": "code",
   "execution_count": 142,
   "id": "247db63a-2e76-4376-aac3-0e583933f96b",
   "metadata": {},
   "outputs": [
    {
     "data": {
      "text/plain": [
       "['544.SI',\n",
       " '5GD.SI',\n",
       " '5TP.SI',\n",
       " 'AP4.SI',\n",
       " 'BEZ.SI',\n",
       " 'DHLU.SI',\n",
       " 'ER0.SI',\n",
       " 'H02.SI',\n",
       " 'KUO.SI',\n",
       " 'S35.SI',\n",
       " 'S41.SI',\n",
       " 'T14.SI',\n",
       " 'TQ5.SI',\n",
       " 'Z74.SI',\n",
       " 'ZKX.SI']"
      ]
     },
     "execution_count": 142,
     "metadata": {},
     "output_type": "execute_result"
    }
   ],
   "source": [
    "c_list"
   ]
  },
  {
   "cell_type": "markdown",
   "id": "26f87c13-77ac-432a-b0bd-33bdcb5f1bce",
   "metadata": {},
   "source": [
    "Remove \n",
    "OXMU"
   ]
  },
  {
   "cell_type": "code",
   "execution_count": 124,
   "id": "e63e6156-08d3-4b7a-9492-bf57d6b55ed0",
   "metadata": {},
   "outputs": [],
   "source": [
    "c_list = []\n",
    "\n",
    "for item in cols:\n",
    "\n",
    "    if item in data.T[\"Open\"].columns and item in data.T[\"Close\"].columns:\n",
    "        close_series = data.T[\"Close\"][item]\n",
    "        open_series = data.T[\"Open\"][item]\n",
    "        # print(clo se_series, open_series)\n",
    "        # do your logic here\n",
    "    else:\n",
    "        print(f\"Skipping {item} (missing Open/Close)\")\n",
    "\n",
    "    diff = close_series - open_series\n",
    "\n",
    "    last3 = diff.tail(3)\n",
    "    check_diff = (last3 > 0).all()\n",
    "\n",
    "    last4_close = close_series.tail(4)  # need 4 values to compare 3 consecutive increases\n",
    "    check_close_up = (last4_close.diff().tail(3) >= 0).all()\n",
    "\n",
    "    if check_diff and check_close_up:\n",
    "        c_list.append(item)\n",
    "\n",
    "    \n",
    "\n",
    "    # if check_diff and check_close_up:\n",
    "\n",
    "    #     pct_change_open_close = ((close_series - open_series) / open_series) * 100\n",
    "    #     # print(pct_change_open_close)\n",
    "    #     close_close_pct = close_series.pct_change() * 100\n",
    "    #     check = check_trend(close_close_pct)\n",
    "    \n",
    "    #     if check:\n",
    "    #         c_list.append(item)"
   ]
  },
  {
   "cell_type": "code",
   "execution_count": 125,
   "id": "843ecbd7-3c59-400a-9e84-f8f8c1455f8e",
   "metadata": {},
   "outputs": [
    {
     "data": {
      "text/plain": [
       "['1E3.SI',\n",
       " 'AWZ.SI',\n",
       " 'BEZ.SI',\n",
       " 'F34.SI',\n",
       " 'H78.SI',\n",
       " 'J69U.SI',\n",
       " 'K71U.SI',\n",
       " 'KUO.SI',\n",
       " 'ME8U.SI',\n",
       " 'N02.SI',\n",
       " 'N2IU.SI',\n",
       " 'OXMU.SI',\n",
       " 'Q5T.SI',\n",
       " 'S35.SI',\n",
       " 'S41.SI',\n",
       " 'T82U.SI',\n",
       " 'X5N.SI',\n",
       " 'YK9.SI',\n",
       " 'Z74.SI',\n",
       " 'ZKX.SI']"
      ]
     },
     "execution_count": 125,
     "metadata": {},
     "output_type": "execute_result"
    }
   ],
   "source": [
    "c_list"
   ]
  },
  {
   "cell_type": "code",
   "execution_count": 126,
   "id": "598a1230-4fdc-4980-a53f-fab69a215a9b",
   "metadata": {},
   "outputs": [
    {
     "ename": "KeyError",
     "evalue": "'Close'",
     "output_type": "error",
     "traceback": [
      "\u001b[31m---------------------------------------------------------------------------\u001b[39m",
      "\u001b[31mDateParseError\u001b[39m                            Traceback (most recent call last)",
      "\u001b[36mFile \u001b[39m\u001b[32m~\\AppData\\Local\\Programs\\Python\\Python313\\Lib\\site-packages\\pandas\\core\\indexes\\datetimes.py:603\u001b[39m, in \u001b[36mDatetimeIndex.get_loc\u001b[39m\u001b[34m(self, key)\u001b[39m\n\u001b[32m    602\u001b[39m \u001b[38;5;28;01mtry\u001b[39;00m:\n\u001b[32m--> \u001b[39m\u001b[32m603\u001b[39m     parsed, reso = \u001b[38;5;28;43mself\u001b[39;49m\u001b[43m.\u001b[49m\u001b[43m_parse_with_reso\u001b[49m\u001b[43m(\u001b[49m\u001b[43mkey\u001b[49m\u001b[43m)\u001b[49m\n\u001b[32m    604\u001b[39m \u001b[38;5;28;01mexcept\u001b[39;00m (\u001b[38;5;167;01mValueError\u001b[39;00m, pytz.NonExistentTimeError) \u001b[38;5;28;01mas\u001b[39;00m err:\n",
      "\u001b[36mFile \u001b[39m\u001b[32m~\\AppData\\Local\\Programs\\Python\\Python313\\Lib\\site-packages\\pandas\\core\\indexes\\datetimes.py:559\u001b[39m, in \u001b[36mDatetimeIndex._parse_with_reso\u001b[39m\u001b[34m(self, label)\u001b[39m\n\u001b[32m    558\u001b[39m \u001b[38;5;28;01mdef\u001b[39;00m\u001b[38;5;250m \u001b[39m\u001b[34m_parse_with_reso\u001b[39m(\u001b[38;5;28mself\u001b[39m, label: \u001b[38;5;28mstr\u001b[39m):\n\u001b[32m--> \u001b[39m\u001b[32m559\u001b[39m     parsed, reso = \u001b[38;5;28;43msuper\u001b[39;49m\u001b[43m(\u001b[49m\u001b[43m)\u001b[49m\u001b[43m.\u001b[49m\u001b[43m_parse_with_reso\u001b[49m\u001b[43m(\u001b[49m\u001b[43mlabel\u001b[49m\u001b[43m)\u001b[49m\n\u001b[32m    561\u001b[39m     parsed = Timestamp(parsed)\n",
      "\u001b[36mFile \u001b[39m\u001b[32m~\\AppData\\Local\\Programs\\Python\\Python313\\Lib\\site-packages\\pandas\\core\\indexes\\datetimelike.py:293\u001b[39m, in \u001b[36mDatetimeIndexOpsMixin._parse_with_reso\u001b[39m\u001b[34m(self, label)\u001b[39m\n\u001b[32m    291\u001b[39m     label = \u001b[38;5;28mstr\u001b[39m(label)\n\u001b[32m--> \u001b[39m\u001b[32m293\u001b[39m parsed, reso_str = \u001b[43mparsing\u001b[49m\u001b[43m.\u001b[49m\u001b[43mparse_datetime_string_with_reso\u001b[49m\u001b[43m(\u001b[49m\u001b[43mlabel\u001b[49m\u001b[43m,\u001b[49m\u001b[43m \u001b[49m\u001b[43mfreqstr\u001b[49m\u001b[43m)\u001b[49m\n\u001b[32m    294\u001b[39m reso = Resolution.from_attrname(reso_str)\n",
      "\u001b[36mFile \u001b[39m\u001b[32mpandas/_libs/tslibs/parsing.pyx:442\u001b[39m, in \u001b[36mpandas._libs.tslibs.parsing.parse_datetime_string_with_reso\u001b[39m\u001b[34m()\u001b[39m\n",
      "\u001b[36mFile \u001b[39m\u001b[32mpandas/_libs/tslibs/parsing.pyx:666\u001b[39m, in \u001b[36mpandas._libs.tslibs.parsing.dateutil_parse\u001b[39m\u001b[34m()\u001b[39m\n",
      "\u001b[31mDateParseError\u001b[39m: Unknown datetime string format, unable to parse: Close",
      "\nThe above exception was the direct cause of the following exception:\n",
      "\u001b[31mKeyError\u001b[39m                                  Traceback (most recent call last)",
      "\u001b[36mCell\u001b[39m\u001b[36m \u001b[39m\u001b[32mIn[126]\u001b[39m\u001b[32m, line 12\u001b[39m\n\u001b[32m      6\u001b[39m \u001b[38;5;28;01mfor\u001b[39;00m item \u001b[38;5;129;01min\u001b[39;00m cols:\n\u001b[32m      7\u001b[39m     \u001b[38;5;66;03m# print(item)\u001b[39;00m\n\u001b[32m      8\u001b[39m     \u001b[38;5;66;03m# close_series = data[\"Close\"][item]\u001b[39;00m\n\u001b[32m      9\u001b[39m     \u001b[38;5;66;03m# open_series = data[\"Open\"][item]\u001b[39;00m\n\u001b[32m     11\u001b[39m     \u001b[38;5;28;01mif\u001b[39;00m item \u001b[38;5;129;01min\u001b[39;00m data.T[\u001b[33m\"\u001b[39m\u001b[33mOpen\u001b[39m\u001b[33m\"\u001b[39m].columns \u001b[38;5;129;01mand\u001b[39;00m item \u001b[38;5;129;01min\u001b[39;00m data.T[\u001b[33m\"\u001b[39m\u001b[33mClose\u001b[39m\u001b[33m\"\u001b[39m].columns:\n\u001b[32m---> \u001b[39m\u001b[32m12\u001b[39m         close_series = \u001b[43mdata\u001b[49m\u001b[43m[\u001b[49m\u001b[33;43m\"\u001b[39;49m\u001b[33;43mClose\u001b[39;49m\u001b[33;43m\"\u001b[39;49m\u001b[43m]\u001b[49m[item]\n\u001b[32m     13\u001b[39m         open_series = data[\u001b[33m\"\u001b[39m\u001b[33mOpen\u001b[39m\u001b[33m\"\u001b[39m][item]\n\u001b[32m     14\u001b[39m         \u001b[38;5;66;03m# do your logic here\u001b[39;00m\n\u001b[32m     15\u001b[39m     \u001b[38;5;28;01melse\u001b[39;00m:\n",
      "\u001b[36mFile \u001b[39m\u001b[32m~\\AppData\\Local\\Programs\\Python\\Python313\\Lib\\site-packages\\pandas\\core\\frame.py:4107\u001b[39m, in \u001b[36mDataFrame.__getitem__\u001b[39m\u001b[34m(self, key)\u001b[39m\n\u001b[32m   4105\u001b[39m \u001b[38;5;28;01mif\u001b[39;00m \u001b[38;5;28mself\u001b[39m.columns.nlevels > \u001b[32m1\u001b[39m:\n\u001b[32m   4106\u001b[39m     \u001b[38;5;28;01mreturn\u001b[39;00m \u001b[38;5;28mself\u001b[39m._getitem_multilevel(key)\n\u001b[32m-> \u001b[39m\u001b[32m4107\u001b[39m indexer = \u001b[38;5;28;43mself\u001b[39;49m\u001b[43m.\u001b[49m\u001b[43mcolumns\u001b[49m\u001b[43m.\u001b[49m\u001b[43mget_loc\u001b[49m\u001b[43m(\u001b[49m\u001b[43mkey\u001b[49m\u001b[43m)\u001b[49m\n\u001b[32m   4108\u001b[39m \u001b[38;5;28;01mif\u001b[39;00m is_integer(indexer):\n\u001b[32m   4109\u001b[39m     indexer = [indexer]\n",
      "\u001b[36mFile \u001b[39m\u001b[32m~\\AppData\\Local\\Programs\\Python\\Python313\\Lib\\site-packages\\pandas\\core\\indexes\\datetimes.py:605\u001b[39m, in \u001b[36mDatetimeIndex.get_loc\u001b[39m\u001b[34m(self, key)\u001b[39m\n\u001b[32m    603\u001b[39m     parsed, reso = \u001b[38;5;28mself\u001b[39m._parse_with_reso(key)\n\u001b[32m    604\u001b[39m \u001b[38;5;28;01mexcept\u001b[39;00m (\u001b[38;5;167;01mValueError\u001b[39;00m, pytz.NonExistentTimeError) \u001b[38;5;28;01mas\u001b[39;00m err:\n\u001b[32m--> \u001b[39m\u001b[32m605\u001b[39m     \u001b[38;5;28;01mraise\u001b[39;00m \u001b[38;5;167;01mKeyError\u001b[39;00m(key) \u001b[38;5;28;01mfrom\u001b[39;00m\u001b[38;5;250m \u001b[39m\u001b[34;01merr\u001b[39;00m\n\u001b[32m    606\u001b[39m \u001b[38;5;28mself\u001b[39m._disallow_mismatched_indexing(parsed)\n\u001b[32m    608\u001b[39m \u001b[38;5;28;01mif\u001b[39;00m \u001b[38;5;28mself\u001b[39m._can_partial_date_slice(reso):\n",
      "\u001b[31mKeyError\u001b[39m: 'Close'"
     ]
    }
   ],
   "source": [
    "c_list = []\n",
    "c1_list =[]\n",
    "c2_list = []\n",
    "c3_list = []\n",
    "\n",
    "for item in cols:\n",
    "    # print(item)\n",
    "    # close_series = data[\"Close\"][item]\n",
    "    # open_series = data[\"Open\"][item]\n",
    "\n",
    "    if item in data.T[\"Open\"].columns and item in data.T[\"Close\"].columns:\n",
    "        close_series = data[\"Close\"][item]\n",
    "        open_series = data[\"Open\"][item]\n",
    "        # do your logic here\n",
    "    else:\n",
    "        print(f\"Skipping {item} (missing Open/Close)\")\n",
    "\n",
    "    diff = close_series - open_series\n",
    "\n",
    "    last3 = diff.tail(3)\n",
    "    check_diff = (last3 > 0).all()\n",
    "\n",
    "    last4_close = close_series.tail(4)  # need 4 values to compare 3 consecutive increases\n",
    "    check_close_up = (last4_close.diff().tail(3) > 0).all()\n",
    "\n",
    "    if check_diff and check_close_up:\n",
    "\n",
    "        pct_change_open_close = ((close_series - open_series) / open_series) * 100\n",
    "        # print(pct_change_open_close)\n",
    "        close_close_pct = close_series.pct_change() * 100\n",
    "        c1, c2 = check_trend(close_close_pct)\n",
    "    \n",
    "        if c1 or c2:\n",
    "            c_list.append(item)\n",
    "            if c1:\n",
    "                c1_list.append(item)\n",
    "            if c2: \n",
    "                c2_list.append(item)\n",
    "        if c1 and c2:\n",
    "            c3_list.append(item)"
   ]
  },
  {
   "cell_type": "code",
   "execution_count": null,
   "id": "7735e356-c7c5-47bb-a840-a84e9d45a530",
   "metadata": {},
   "outputs": [],
   "source": [
    "response = yf.download(c_list, period='20d')\n",
    "df2 = response"
   ]
  },
  {
   "cell_type": "code",
   "execution_count": null,
   "id": "b8cafd09-88f7-426a-8312-1a118b45f436",
   "metadata": {},
   "outputs": [],
   "source": [
    "final_list = []\n",
    "\n",
    "for item in c_list:\n",
    "    print(item)\n",
    "    dat = yf.Ticker(item)\n",
    "    # print(dat)\n",
    "    if dat.info.get(\"marketCap\") and dat.info.get(\"marketCap\") > 100000000:\n",
    "        vol_series = df2[\"Volume\"][item]\n",
    "        avg_3 = vol_series.tail(3).mean()\n",
    "        avg_20 = vol_series.tail(20).mean()\n",
    "        check = avg_3 > avg_20\n",
    "        if check:\n",
    "            final_list.append(item)\n",
    "        # print(check)\n",
    "    "
   ]
  },
  {
   "cell_type": "code",
   "execution_count": null,
   "id": "98ff380f-bbf3-4cb9-9a80-bcda93662c49",
   "metadata": {},
   "outputs": [],
   "source": [
    "final_list"
   ]
  },
  {
   "cell_type": "code",
   "execution_count": 179,
   "id": "219ce190-2913-41b2-b44b-e6fba6def1e9",
   "metadata": {},
   "outputs": [
    {
     "ename": "KeyError",
     "evalue": "'2025-08-27'",
     "output_type": "error",
     "traceback": [
      "\u001b[31m---------------------------------------------------------------------------\u001b[39m",
      "\u001b[31mKeyError\u001b[39m                                  Traceback (most recent call last)",
      "\u001b[36mFile \u001b[39m\u001b[32m~\\AppData\\Local\\Programs\\Python\\Python313\\Lib\\site-packages\\pandas\\core\\indexes\\base.py:3812\u001b[39m, in \u001b[36mIndex.get_loc\u001b[39m\u001b[34m(self, key)\u001b[39m\n\u001b[32m   3811\u001b[39m \u001b[38;5;28;01mtry\u001b[39;00m:\n\u001b[32m-> \u001b[39m\u001b[32m3812\u001b[39m     \u001b[38;5;28;01mreturn\u001b[39;00m \u001b[38;5;28;43mself\u001b[39;49m\u001b[43m.\u001b[49m\u001b[43m_engine\u001b[49m\u001b[43m.\u001b[49m\u001b[43mget_loc\u001b[49m\u001b[43m(\u001b[49m\u001b[43mcasted_key\u001b[49m\u001b[43m)\u001b[49m\n\u001b[32m   3813\u001b[39m \u001b[38;5;28;01mexcept\u001b[39;00m \u001b[38;5;167;01mKeyError\u001b[39;00m \u001b[38;5;28;01mas\u001b[39;00m err:\n",
      "\u001b[36mFile \u001b[39m\u001b[32mpandas/_libs/index.pyx:167\u001b[39m, in \u001b[36mpandas._libs.index.IndexEngine.get_loc\u001b[39m\u001b[34m()\u001b[39m\n",
      "\u001b[36mFile \u001b[39m\u001b[32mpandas/_libs/index.pyx:196\u001b[39m, in \u001b[36mpandas._libs.index.IndexEngine.get_loc\u001b[39m\u001b[34m()\u001b[39m\n",
      "\u001b[36mFile \u001b[39m\u001b[32mpandas/_libs/hashtable_class_helper.pxi:7088\u001b[39m, in \u001b[36mpandas._libs.hashtable.PyObjectHashTable.get_item\u001b[39m\u001b[34m()\u001b[39m\n",
      "\u001b[36mFile \u001b[39m\u001b[32mpandas/_libs/hashtable_class_helper.pxi:7096\u001b[39m, in \u001b[36mpandas._libs.hashtable.PyObjectHashTable.get_item\u001b[39m\u001b[34m()\u001b[39m\n",
      "\u001b[31mKeyError\u001b[39m: '2025-08-27'",
      "\nThe above exception was the direct cause of the following exception:\n",
      "\u001b[31mKeyError\u001b[39m                                  Traceback (most recent call last)",
      "\u001b[36mCell\u001b[39m\u001b[36m \u001b[39m\u001b[32mIn[179]\u001b[39m\u001b[32m, line 1\u001b[39m\n\u001b[32m----> \u001b[39m\u001b[32m1\u001b[39m filtered_df = data[\u001b[43mdata\u001b[49m\u001b[43m[\u001b[49m\u001b[43mtoday\u001b[49m\u001b[43m]\u001b[49m > \u001b[32m5\u001b[39m]\n",
      "\u001b[36mFile \u001b[39m\u001b[32m~\\AppData\\Local\\Programs\\Python\\Python313\\Lib\\site-packages\\pandas\\core\\frame.py:4106\u001b[39m, in \u001b[36mDataFrame.__getitem__\u001b[39m\u001b[34m(self, key)\u001b[39m\n\u001b[32m   4104\u001b[39m \u001b[38;5;28;01mif\u001b[39;00m is_single_key:\n\u001b[32m   4105\u001b[39m     \u001b[38;5;28;01mif\u001b[39;00m \u001b[38;5;28mself\u001b[39m.columns.nlevels > \u001b[32m1\u001b[39m:\n\u001b[32m-> \u001b[39m\u001b[32m4106\u001b[39m         \u001b[38;5;28;01mreturn\u001b[39;00m \u001b[38;5;28;43mself\u001b[39;49m\u001b[43m.\u001b[49m\u001b[43m_getitem_multilevel\u001b[49m\u001b[43m(\u001b[49m\u001b[43mkey\u001b[49m\u001b[43m)\u001b[49m\n\u001b[32m   4107\u001b[39m     indexer = \u001b[38;5;28mself\u001b[39m.columns.get_loc(key)\n\u001b[32m   4108\u001b[39m     \u001b[38;5;28;01mif\u001b[39;00m is_integer(indexer):\n",
      "\u001b[36mFile \u001b[39m\u001b[32m~\\AppData\\Local\\Programs\\Python\\Python313\\Lib\\site-packages\\pandas\\core\\frame.py:4164\u001b[39m, in \u001b[36mDataFrame._getitem_multilevel\u001b[39m\u001b[34m(self, key)\u001b[39m\n\u001b[32m   4162\u001b[39m \u001b[38;5;28;01mdef\u001b[39;00m\u001b[38;5;250m \u001b[39m\u001b[34m_getitem_multilevel\u001b[39m(\u001b[38;5;28mself\u001b[39m, key):\n\u001b[32m   4163\u001b[39m     \u001b[38;5;66;03m# self.columns is a MultiIndex\u001b[39;00m\n\u001b[32m-> \u001b[39m\u001b[32m4164\u001b[39m     loc = \u001b[38;5;28;43mself\u001b[39;49m\u001b[43m.\u001b[49m\u001b[43mcolumns\u001b[49m\u001b[43m.\u001b[49m\u001b[43mget_loc\u001b[49m\u001b[43m(\u001b[49m\u001b[43mkey\u001b[49m\u001b[43m)\u001b[49m\n\u001b[32m   4165\u001b[39m     \u001b[38;5;28;01mif\u001b[39;00m \u001b[38;5;28misinstance\u001b[39m(loc, (\u001b[38;5;28mslice\u001b[39m, np.ndarray)):\n\u001b[32m   4166\u001b[39m         new_columns = \u001b[38;5;28mself\u001b[39m.columns[loc]\n",
      "\u001b[36mFile \u001b[39m\u001b[32m~\\AppData\\Local\\Programs\\Python\\Python313\\Lib\\site-packages\\pandas\\core\\indexes\\multi.py:3059\u001b[39m, in \u001b[36mMultiIndex.get_loc\u001b[39m\u001b[34m(self, key)\u001b[39m\n\u001b[32m   3056\u001b[39m     \u001b[38;5;28;01mreturn\u001b[39;00m mask\n\u001b[32m   3058\u001b[39m \u001b[38;5;28;01mif\u001b[39;00m \u001b[38;5;129;01mnot\u001b[39;00m \u001b[38;5;28misinstance\u001b[39m(key, \u001b[38;5;28mtuple\u001b[39m):\n\u001b[32m-> \u001b[39m\u001b[32m3059\u001b[39m     loc = \u001b[38;5;28;43mself\u001b[39;49m\u001b[43m.\u001b[49m\u001b[43m_get_level_indexer\u001b[49m\u001b[43m(\u001b[49m\u001b[43mkey\u001b[49m\u001b[43m,\u001b[49m\u001b[43m \u001b[49m\u001b[43mlevel\u001b[49m\u001b[43m=\u001b[49m\u001b[32;43m0\u001b[39;49m\u001b[43m)\u001b[49m\n\u001b[32m   3060\u001b[39m     \u001b[38;5;28;01mreturn\u001b[39;00m _maybe_to_slice(loc)\n\u001b[32m   3062\u001b[39m keylen = \u001b[38;5;28mlen\u001b[39m(key)\n",
      "\u001b[36mFile \u001b[39m\u001b[32m~\\AppData\\Local\\Programs\\Python\\Python313\\Lib\\site-packages\\pandas\\core\\indexes\\multi.py:3410\u001b[39m, in \u001b[36mMultiIndex._get_level_indexer\u001b[39m\u001b[34m(self, key, level, indexer)\u001b[39m\n\u001b[32m   3407\u001b[39m         \u001b[38;5;28;01mreturn\u001b[39;00m \u001b[38;5;28mslice\u001b[39m(i, j, step)\n\u001b[32m   3409\u001b[39m \u001b[38;5;28;01melse\u001b[39;00m:\n\u001b[32m-> \u001b[39m\u001b[32m3410\u001b[39m     idx = \u001b[38;5;28;43mself\u001b[39;49m\u001b[43m.\u001b[49m\u001b[43m_get_loc_single_level_index\u001b[49m\u001b[43m(\u001b[49m\u001b[43mlevel_index\u001b[49m\u001b[43m,\u001b[49m\u001b[43m \u001b[49m\u001b[43mkey\u001b[49m\u001b[43m)\u001b[49m\n\u001b[32m   3412\u001b[39m     \u001b[38;5;28;01mif\u001b[39;00m level > \u001b[32m0\u001b[39m \u001b[38;5;129;01mor\u001b[39;00m \u001b[38;5;28mself\u001b[39m._lexsort_depth == \u001b[32m0\u001b[39m:\n\u001b[32m   3413\u001b[39m         \u001b[38;5;66;03m# Desired level is not sorted\u001b[39;00m\n\u001b[32m   3414\u001b[39m         \u001b[38;5;28;01mif\u001b[39;00m \u001b[38;5;28misinstance\u001b[39m(idx, \u001b[38;5;28mslice\u001b[39m):\n\u001b[32m   3415\u001b[39m             \u001b[38;5;66;03m# test_get_loc_partial_timestamp_multiindex\u001b[39;00m\n",
      "\u001b[36mFile \u001b[39m\u001b[32m~\\AppData\\Local\\Programs\\Python\\Python313\\Lib\\site-packages\\pandas\\core\\indexes\\multi.py:2999\u001b[39m, in \u001b[36mMultiIndex._get_loc_single_level_index\u001b[39m\u001b[34m(self, level_index, key)\u001b[39m\n\u001b[32m   2997\u001b[39m     \u001b[38;5;28;01mreturn\u001b[39;00m -\u001b[32m1\u001b[39m\n\u001b[32m   2998\u001b[39m \u001b[38;5;28;01melse\u001b[39;00m:\n\u001b[32m-> \u001b[39m\u001b[32m2999\u001b[39m     \u001b[38;5;28;01mreturn\u001b[39;00m \u001b[43mlevel_index\u001b[49m\u001b[43m.\u001b[49m\u001b[43mget_loc\u001b[49m\u001b[43m(\u001b[49m\u001b[43mkey\u001b[49m\u001b[43m)\u001b[49m\n",
      "\u001b[36mFile \u001b[39m\u001b[32m~\\AppData\\Local\\Programs\\Python\\Python313\\Lib\\site-packages\\pandas\\core\\indexes\\base.py:3819\u001b[39m, in \u001b[36mIndex.get_loc\u001b[39m\u001b[34m(self, key)\u001b[39m\n\u001b[32m   3814\u001b[39m     \u001b[38;5;28;01mif\u001b[39;00m \u001b[38;5;28misinstance\u001b[39m(casted_key, \u001b[38;5;28mslice\u001b[39m) \u001b[38;5;129;01mor\u001b[39;00m (\n\u001b[32m   3815\u001b[39m         \u001b[38;5;28misinstance\u001b[39m(casted_key, abc.Iterable)\n\u001b[32m   3816\u001b[39m         \u001b[38;5;129;01mand\u001b[39;00m \u001b[38;5;28many\u001b[39m(\u001b[38;5;28misinstance\u001b[39m(x, \u001b[38;5;28mslice\u001b[39m) \u001b[38;5;28;01mfor\u001b[39;00m x \u001b[38;5;129;01min\u001b[39;00m casted_key)\n\u001b[32m   3817\u001b[39m     ):\n\u001b[32m   3818\u001b[39m         \u001b[38;5;28;01mraise\u001b[39;00m InvalidIndexError(key)\n\u001b[32m-> \u001b[39m\u001b[32m3819\u001b[39m     \u001b[38;5;28;01mraise\u001b[39;00m \u001b[38;5;167;01mKeyError\u001b[39;00m(key) \u001b[38;5;28;01mfrom\u001b[39;00m\u001b[38;5;250m \u001b[39m\u001b[34;01merr\u001b[39;00m\n\u001b[32m   3820\u001b[39m \u001b[38;5;28;01mexcept\u001b[39;00m \u001b[38;5;167;01mTypeError\u001b[39;00m:\n\u001b[32m   3821\u001b[39m     \u001b[38;5;66;03m# If we have a listlike key, _check_indexing_error will raise\u001b[39;00m\n\u001b[32m   3822\u001b[39m     \u001b[38;5;66;03m#  InvalidIndexError. Otherwise we fall through and re-raise\u001b[39;00m\n\u001b[32m   3823\u001b[39m     \u001b[38;5;66;03m#  the TypeError.\u001b[39;00m\n\u001b[32m   3824\u001b[39m     \u001b[38;5;28mself\u001b[39m._check_indexing_error(key)\n",
      "\u001b[31mKeyError\u001b[39m: '2025-08-27'"
     ]
    }
   ],
   "source": [
    "filtered_df = data[data[today] > 5]"
   ]
  },
  {
   "cell_type": "code",
   "execution_count": null,
   "id": "4d5203aa-def0-4b4e-8616-9188820d33c2",
   "metadata": {},
   "outputs": [],
   "source": []
  },
  {
   "cell_type": "code",
   "execution_count": null,
   "id": "19207929-af6f-4282-873d-0a5ff54ff302",
   "metadata": {},
   "outputs": [],
   "source": [
    "dat = yf.download(['AAPL', 'GOOG', \"MSFT\"], period='5d')\n",
    "\n",
    "print(dat)"
   ]
  },
  {
   "cell_type": "code",
   "execution_count": null,
   "id": "8a817a04-1845-441e-ae41-7ba77159cac6",
   "metadata": {},
   "outputs": [],
   "source": [
    "close_df = dat[\"Close\"][\"AAPL\"]"
   ]
  },
  {
   "cell_type": "code",
   "execution_count": null,
   "id": "85f6c1ee-61ff-4e91-a7a8-6f530216ca43",
   "metadata": {},
   "outputs": [],
   "source": [
    "close_df"
   ]
  },
  {
   "cell_type": "code",
   "execution_count": null,
   "id": "c6e70c79-05c2-4786-8907-968f02c72747",
   "metadata": {},
   "outputs": [],
   "source": [
    "open_df = dat[\"Open\"][\"AAPL\"]"
   ]
  },
  {
   "cell_type": "code",
   "execution_count": null,
   "id": "073cd6d0-0f24-4b7c-9f08-97b9d5255452",
   "metadata": {},
   "outputs": [],
   "source": [
    "open_df"
   ]
  },
  {
   "cell_type": "code",
   "execution_count": null,
   "id": "4e41e905-28dd-4c0d-af3f-ee84aacbad74",
   "metadata": {},
   "outputs": [],
   "source": [
    "print(dat.columns)"
   ]
  },
  {
   "cell_type": "code",
   "execution_count": 47,
   "id": "98f81b82-44f5-488b-b6b9-871ac9e07938",
   "metadata": {},
   "outputs": [
    {
     "name": "stdout",
     "output_type": "stream",
     "text": [
      "Date\n",
      "2025-08-25    0.300251\n",
      "2025-08-26    1.075507\n",
      "2025-08-27    0.822363\n",
      "2025-08-28    0.753830\n",
      "2025-08-29   -0.159131\n",
      "Name: AAPL, dtype: float64\n"
     ]
    }
   ],
   "source": [
    "open_series = dat[\"Open\"][\"AAPL\"]\n",
    "close_series = dat[\"Close\"][\"AAPL\"]\n",
    "\n",
    "pct_change_open_close = ((close_series - open_series) / open_series) * 100\n",
    "print(pct_change_open_close)"
   ]
  },
  {
   "cell_type": "code",
   "execution_count": 48,
   "id": "1bd0ebd3-fd35-4ca6-9b2c-0943562b9bc6",
   "metadata": {},
   "outputs": [],
   "source": [
    "def check_trend(pct_series: pd.Series):\n",
    "    # condition 1: 2 consecutive >= +1%\n",
    "    cond1 = ((pct_series >= 1).astype(int)\n",
    "             .rolling(2).sum() >= 2).any()\n",
    "\n",
    "    # condition 2: 3 consecutive > 0\n",
    "    cond2 = ((pct_series > 0).astype(int)\n",
    "             .rolling(3).sum() >= 3).any()\n",
    "\n",
    "    return cond1, cond2"
   ]
  },
  {
   "cell_type": "code",
   "execution_count": 49,
   "id": "1f06abd7-ccc2-4d41-972f-de44aa2dc49d",
   "metadata": {},
   "outputs": [
    {
     "name": "stdout",
     "output_type": "stream",
     "text": [
      "2 consecutive >= +1%: False\n",
      "3 consecutive > 0: True\n"
     ]
    }
   ],
   "source": [
    "pct_change_open_close = ((close_series - open_series) / open_series) * 100\n",
    "c1, c2 = check_trend(pct_change_open_close)\n",
    "\n",
    "print(\"2 consecutive >= +1%:\", c1)\n",
    "print(\"3 consecutive > 0:\", c2)"
   ]
  },
  {
   "cell_type": "code",
   "execution_count": null,
   "id": "5c3d10c8-f98c-49d8-9e2d-103e8849b539",
   "metadata": {},
   "outputs": [],
   "source": []
  }
 ],
 "metadata": {
  "kernelspec": {
   "display_name": "Python 3 (ipykernel)",
   "language": "python",
   "name": "python3"
  },
  "language_info": {
   "codemirror_mode": {
    "name": "ipython",
    "version": 3
   },
   "file_extension": ".py",
   "mimetype": "text/x-python",
   "name": "python",
   "nbconvert_exporter": "python",
   "pygments_lexer": "ipython3",
   "version": "3.13.5"
  }
 },
 "nbformat": 4,
 "nbformat_minor": 5
}
